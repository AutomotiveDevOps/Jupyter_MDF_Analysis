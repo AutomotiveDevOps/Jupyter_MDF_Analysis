{
 "cells": [
  {
   "cell_type": "markdown",
   "metadata": {},
   "source": [
    "# Example From asammdf issue #157\n",
    "\n",
    "*extract_can_logging(dbc) only returns scaling of the 1st data group #157*\n",
    "\n",
    "- https://github.com/danielhrisca/asammdf/issues/157"
   ]
  },
  {
   "cell_type": "markdown",
   "metadata": {},
   "source": [
    "> I have a CAN bus log file from a logging device with 2 physical CAN channels.\n",
    "\n",
    "> In both channels, the same J1939 CAN data frame is recorded, split by data group. This case may occur if e.g a single device is recording data from two identical machines in parallel.\n",
    "\n",
    "> I would like to dbc-convert the raw data, but my understanding of using extract_can_logging(dbc) on the overall MDF is that it will \"collapse\" the original data group separation into a single data group to reflect that the two physical CAN channels are recording the same CAN ID. I would need this separated as the data would in practice not be identical.\n",
    "\n",
    "> To do so, I assumed I would be able to split the original MDF into two MDFs, one for each data group - and then afterwards apply extract_can_logging. However, that seems to provide an empty MDF with no matches. I also notice that the structure of the resulting mdf1 and mdf2 files are slightly different vs. their counterpart data groups in the concatenated MDF.\n",
    "\n",
    "> Perhaps I'm simply doing the splitting of data groups wrongly - if so, I'll close this asap.\n",
    "\n",
    "- [*MatinF*](https://github.com/MatinF)"
   ]
  },
  {
   "cell_type": "code",
   "execution_count": null,
   "metadata": {},
   "outputs": [],
   "source": [
    "%matplotlib inline\n",
    "from asammdf import MDF\n",
    "import os"
   ]
  },
  {
   "cell_type": "markdown",
   "metadata": {},
   "source": [
    "Download and extract https://github.com/danielhrisca/asammdf/files/3049504/sample_files.zip"
   ]
  },
  {
   "cell_type": "code",
   "execution_count": null,
   "metadata": {},
   "outputs": [],
   "source": [
    "!rm -rf sample_files\n",
    "!wget -q https://github.com/danielhrisca/asammdf/files/3049504/sample_files.zip\n",
    "!unzip sample_files.zip"
   ]
  },
  {
   "cell_type": "code",
   "execution_count": null,
   "metadata": {},
   "outputs": [],
   "source": [
    "os.chdir(\"sample_files/\")"
   ]
  },
  {
   "cell_type": "code",
   "execution_count": null,
   "metadata": {},
   "outputs": [],
   "source": [
    "files = ['AC6013CD_00003277_00000001.mf4', 'AC6013CD_00003277_00000005.mf4']\n",
    "dbc = ['CSS-Electronics-SAE-J1939-DEMO.dbc']\n",
    "\n",
    "mdf = MDF.concatenate(files,time_from_zero=False)\n",
    "\n",
    "# split MDF into CAN channel 1 and 2\n",
    "mdf1 = MDF(version='4.10')\n",
    "mdf2 = MDF(version='4.10')\n",
    "\n",
    "mdf1.append([mdf.get(\"CAN_DataFrame\", group=0)])\n",
    "mdf2.append([mdf.get(\"CAN_DataFrame\", group=1)])\n",
    "\n",
    "mdf1.save('CAN_1', overwrite=True)\n",
    "mdf2.save('CAN_2', overwrite=True)\n",
    "\n",
    "mdf0_scaled = mdf.extract_can_logging(dbc)\n",
    "mdf1_scaled = mdf1.extract_can_logging(dbc)\n",
    "mdf2_scaled = mdf2.extract_can_logging(dbc)\n",
    "\n",
    "mdf0_scaled.save('mdf0_scaled.mf4')\n",
    "mdf1_scaled.save('mdf1_scaled.mf4')\n",
    "mdf2_scaled.save('mdf2_scaled.mf4');"
   ]
  },
  {
   "cell_type": "code",
   "execution_count": null,
   "metadata": {
    "scrolled": true
   },
   "outputs": [],
   "source": [
    "!ls"
   ]
  },
  {
   "cell_type": "markdown",
   "metadata": {},
   "source": [
    "# Part 2. Data Analysis.\n",
    "\n",
    "Looking into the data from the above bug (that has since been fixed).\n",
    "\n",
    "Exploring the data having been just given a MDF file you've never seen before."
   ]
  },
  {
   "cell_type": "code",
   "execution_count": null,
   "metadata": {},
   "outputs": [],
   "source": [
    "for channel in mdf0_scaled.iter_channels():\n",
    "    print(channel.name)\n",
    "    channel.plot()"
   ]
  },
  {
   "cell_type": "markdown",
   "metadata": {},
   "source": [
    "Make the plots look \"better\" with Seaborn."
   ]
  },
  {
   "cell_type": "code",
   "execution_count": null,
   "metadata": {},
   "outputs": [],
   "source": [
    "import matplotlib as mpl"
   ]
  },
  {
   "cell_type": "code",
   "execution_count": null,
   "metadata": {},
   "outputs": [],
   "source": [
    "import seaborn as sns\n",
    "# https://www.datacamp.com/community/tutorials/seaborn-python-tutorial\n",
    "mpl.rc_file_defaults()\n",
    "sns.set(\n",
    "    rc={\n",
    "        \"figure.figsize\": (11.69, 8.27), # A4 paper size.\n",
    "        \"figure.facecolor\": \"w\",\n",
    "        \"figure.edgecolor\": \"k\",\n",
    "        \"axes.labelsize\": 18,\n",
    "        \"axes.titlesize\": 18,\n",
    "    }\n",
    ")"
   ]
  },
  {
   "cell_type": "code",
   "execution_count": null,
   "metadata": {},
   "outputs": [],
   "source": [
    "for channel in mdf0_scaled.iter_channels():\n",
    "    print(channel.name)\n",
    "    channel.plot()"
   ]
  },
  {
   "cell_type": "code",
   "execution_count": null,
   "metadata": {},
   "outputs": [],
   "source": []
  }
 ],
 "metadata": {
  "kernelspec": {
   "display_name": "Python 3",
   "language": "python",
   "name": "python3"
  },
  "language_info": {
   "codemirror_mode": {
    "name": "ipython",
    "version": 3
   },
   "file_extension": ".py",
   "mimetype": "text/x-python",
   "name": "python",
   "nbconvert_exporter": "python",
   "pygments_lexer": "ipython3",
   "version": "3.8.2"
  }
 },
 "nbformat": 4,
 "nbformat_minor": 4
}
