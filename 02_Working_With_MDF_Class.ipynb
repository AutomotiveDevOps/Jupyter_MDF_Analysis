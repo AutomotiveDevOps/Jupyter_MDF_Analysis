{
 "cells": [
  {
   "cell_type": "markdown",
   "metadata": {},
   "source": [
    "# Working with ````asammdf.MDF````"
   ]
  },
  {
   "cell_type": "code",
   "execution_count": 2,
   "metadata": {},
   "outputs": [
    {
     "name": "stdout",
     "output_type": "stream",
     "text": [
      "Unified access to MDF v3 and v4 files. Underlying _mdf's attributes and\n",
      "    methods are linked to the `MDF` object via *setattr*. This is done to expose\n",
      "    them to the user code and for performance considerations.\n",
      "\n",
      "    Parameters\n",
      "    ----------\n",
      "    name : string | fsspec.core.OpenFile,\n",
      "        mdf file name (if provided it must be a real file name) or\n",
      "        fsspec.core.OpenFile object\n",
      "\n",
      "    version : string\n",
      "        mdf file version from ('2.00', '2.10', '2.14', '3.00', '3.10', '3.20',\n",
      "        '3.30', '4.00', '4.10', '4.11', '4.20'); default '4.10'\n",
      "\n",
      "\n",
      "    callback (\\*\\*kwargs) : function\n",
      "        keyword only argument: function to call to update the progress; the\n",
      "        function must accept two arguments (the current progress and maximum\n",
      "        progress value)\n",
      "    use_display_names (\\*\\*kwargs) : bool\n",
      "        keyword only argument: for MDF4 files parse the XML channel comment to\n",
      "        search for the display name; XML parsing is quite expensive so setting\n",
      "        this to *False* can decrease the loading times very much; default\n",
      "        *False*\n",
      "    remove_source_from_channel_names (\\*\\*kwargs) : bool\n",
      "        remove source from channel names (\"Speed\\XCP3\" -> \"Speed\")\n",
      "    copy_on_get (\\*\\*kwargs) : bool\n",
      "        copy arrays in the get method; default *True*\n",
      "\n",
      "    \n"
     ]
    }
   ],
   "source": [
    "from asammdf import MDF, Signal\n",
    "print(MDF.__doc__)"
   ]
  },
  {
   "cell_type": "markdown",
   "metadata": {},
   "source": [
    "## Create 3 Signal objects"
   ]
  },
  {
   "cell_type": "code",
   "execution_count": 5,
   "metadata": {},
   "outputs": [],
   "source": [
    "import numpy as np"
   ]
  },
  {
   "cell_type": "code",
   "execution_count": 6,
   "metadata": {},
   "outputs": [],
   "source": [
    "timestamps = np.array([0.1, 0.2, 0.3, 0.4, 0.5], dtype=np.float32)"
   ]
  },
  {
   "cell_type": "markdown",
   "metadata": {},
   "source": [
    "### unit8"
   ]
  },
  {
   "cell_type": "code",
   "execution_count": 7,
   "metadata": {},
   "outputs": [],
   "source": [
    "s_uint8 = Signal(samples=np.array([0, 1, 2, 3, 4], dtype=np.uint8),\n",
    "                 timestamps=timestamps,\n",
    "                 name='Uint8_Signal',\n",
    "                 unit='u1')"
   ]
  },
  {
   "cell_type": "markdown",
   "metadata": {},
   "source": [
    "### int32"
   ]
  },
  {
   "cell_type": "code",
   "execution_count": 8,
   "metadata": {},
   "outputs": [],
   "source": [
    "s_int32 = Signal(samples=np.array([-20, -10, 0, 10, 20], dtype=np.int32),\n",
    "                 timestamps=timestamps,\n",
    "                 name='Int32_Signal',\n",
    "                 unit='i4')"
   ]
  },
  {
   "cell_type": "markdown",
   "metadata": {},
   "source": [
    "### float64"
   ]
  },
  {
   "cell_type": "code",
   "execution_count": 9,
   "metadata": {},
   "outputs": [],
   "source": [
    "s_float64 = Signal(samples=np.array([-20, -10, 0, 10, 20], dtype=np.float64),\n",
    "                   timestamps=timestamps,\n",
    "                   name='Float64_Signal',\n",
    "                   unit='f8')"
   ]
  },
  {
   "cell_type": "markdown",
   "metadata": {},
   "source": [
    "Create empty MDF version 4.00 file:"
   ]
  },
  {
   "cell_type": "code",
   "execution_count": 10,
   "metadata": {},
   "outputs": [
    {
     "name": "stderr",
     "output_type": "stream",
     "text": [
      "WARNING:root:Signal plotting requires pyqtgraph or matplotlib\n"
     ]
    },
    {
     "name": "stdout",
     "output_type": "stream",
     "text": [
      "3.10\n",
      "<Signal Float64_Signal:\n",
      "\tsamples=[-20. -10.   0.  10.  20.]\n",
      "\ttimestamps=[0.1        0.2        0.30000001 0.40000001 0.5       ]\n",
      "\tinvalidation_bits=None\n",
      "\tunit=\"\"\n",
      "\tconversion=None\n",
      "\tsource=SignalSource(name='Created by Python', path='Created by Python', comment='Module number=0 @ address=0', source_type=0, bus_type=0)\n",
      "\tcomment=\"\"\n",
      "\tmastermeta=\"('time', 1)\"\n",
      "\traw=False\n",
      "\tdisplay_name=\n",
      "\tattachment=()>\n",
      "\n"
     ]
    },
    {
     "data": {
      "image/png": "[encoded data removed]",
      "text/plain": [
       "<Figure size 432x288 with 1 Axes>"
      ]
     },
     "metadata": {
      "needs_background": "light"
     },
     "output_type": "display_data"
    },
    {
     "name": "stderr",
     "output_type": "stream",
     "text": [
      "WARNING:root:Signal plotting requires pyqtgraph or matplotlib\n"
     ]
    },
    {
     "data": {
      "image/png": "[encoded data removed]",
      "text/plain": [
       "<Figure size 432x288 with 1 Axes>"
      ]
     },
     "metadata": {
      "needs_background": "light"
     },
     "output_type": "display_data"
    }
   ],
   "source": [
    "with MDF(version=\"4.10\") as mdf4:\n",
    "\n",
    "    # append the 3 signals to the new file\n",
    "    signals = [s_uint8, s_int32, s_float64]\n",
    "    mdf4.append(signals, \"Created by Python\")\n",
    "\n",
    "    # save new file\n",
    "    mdf4.save(\"my_new_file.mf4\", overwrite=True)\n",
    "\n",
    "    # convert new file to mdf version 3.10\n",
    "    mdf3 = mdf4.convert(version=\"3.10\")\n",
    "    print(mdf3.version)\n",
    "\n",
    "    # get the float signal\n",
    "    sig = mdf3.get(\"Float64_Signal\")\n",
    "    print(sig)\n",
    "\n",
    "    # cut measurement from 0.3s to end of measurement\n",
    "    mdf4_cut = mdf4.cut(start=0.3)\n",
    "    mdf4_cut.get(\"Float64_Signal\").plot()\n",
    "\n",
    "    # cut measurement from start of measurement to 0.4s\n",
    "    mdf4_cut = mdf4.cut(stop=0.45)\n",
    "    mdf4_cut.get(\"Float64_Signal\").plot()\n",
    "\n",
    "    # filter some signals from the file\n",
    "    mdf4 = mdf4.filter([\"Int32_Signal\", \"Uint8_Signal\"])\n",
    "\n",
    "    # save using zipped transpose deflate blocks\n",
    "    mdf4.save(\"out.mf4\", compression=2, overwrite=True)\n"
   ]
  },
  {
   "cell_type": "code",
   "execution_count": null,
   "metadata": {},
   "outputs": [],
   "source": []
  }
 ],
 "metadata": {
  "kernelspec": {
   "display_name": "Python 3",
   "language": "python",
   "name": "python3"
  },
  "language_info": {
   "codemirror_mode": {
    "name": "ipython",
    "version": 3
   },
   "file_extension": ".py",
   "mimetype": "text/x-python",
   "name": "python",
   "nbconvert_exporter": "python",
   "pygments_lexer": "ipython3",
   "version": "3.8.0"
  }
 },
 "nbformat": 4,
 "nbformat_minor": 4
}
