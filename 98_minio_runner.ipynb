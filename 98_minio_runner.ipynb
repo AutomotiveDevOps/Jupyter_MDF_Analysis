{
 "cells": [
  {
   "cell_type": "markdown",
   "metadata": {},
   "source": [
    "This notebook can be used as a control panel to minio for testing s3 data access locally or on binder with minio.\n",
    "\n",
    "1. Download minio to local directory.\n",
    "2. Make a directory called ```data/```\n",
    "3. Launch minio.\n",
    "\n",
    "Currently only tested on Linux."
   ]
  },
  {
   "cell_type": "markdown",
   "metadata": {},
   "source": [
    "## Download "
   ]
  },
  {
   "cell_type": "code",
   "execution_count": null,
   "metadata": {},
   "outputs": [],
   "source": [
    "%%bash\n",
    "wget https://dl.min.io/server/minio/release/linux-amd64/minio\n",
    "chmod +x minio"
   ]
  },
  {
   "cell_type": "markdown",
   "metadata": {},
   "source": [
    "## Run"
   ]
  },
  {
   "cell_type": "code",
   "execution_count": null,
   "metadata": {},
   "outputs": [],
   "source": [
    "%%bash\n",
    "export MINIO_ACCESS_KEY=minio\n",
    "export MINIO_SECRET_KEY=miniostorage\n",
    "\n",
    "mkdir -p mdf_data\n",
    "./minio server --address 127.0.0.1:9000 mdf_data/ &"
   ]
  },
  {
   "cell_type": "code",
   "execution_count": null,
   "metadata": {},
   "outputs": [],
   "source": []
  }
 ],
 "metadata": {
  "kernelspec": {
   "display_name": "Python 3",
   "language": "python",
   "name": "python3"
  },
  "language_info": {
   "codemirror_mode": {
    "name": "ipython",
    "version": 3
   },
   "file_extension": ".py",
   "mimetype": "text/x-python",
   "name": "python",
   "nbconvert_exporter": "python",
   "pygments_lexer": "ipython3",
   "version": "3.8.0"
  }
 },
 "nbformat": 4,
 "nbformat_minor": 4
}
