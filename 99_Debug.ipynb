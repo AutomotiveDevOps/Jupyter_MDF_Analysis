{
 "cells": [
  {
   "cell_type": "markdown",
   "metadata": {},
   "source": [
    "\n",
    "asammdf debug: https://github.com/danielhrisca/asammdf/issues/new"
   ]
  },
  {
   "cell_type": "code",
   "execution_count": 5,
   "metadata": {},
   "outputs": [
    {
     "name": "stdout",
     "output_type": "stream",
     "text": [
      "'python=3.8.0 (default, Oct 28 2019, 16:14:01) \\n[GCC 9.2.1 20191008]'\n",
      "'os=Linux-5.3.0-42-generic-x86_64-with-glibc2.29'\n",
      "'numpy=1.18.2'\n",
      "'asammdf=5.19.6'\n"
     ]
    }
   ],
   "source": [
    "import platform\n",
    "import sys\n",
    "from pprint import pprint\n",
    "\n",
    "pprint(\"python=\" + sys.version)\n",
    "pprint(\"os=\" + platform.platform())\n",
    "\n",
    "try:\n",
    "    import numpy\n",
    "    pprint(\"numpy=\" + numpy.__version__)\n",
    "except ImportError:\n",
    "    pass\n",
    "\n",
    "try:\n",
    "    import asammdf\n",
    "    pprint(\"asammdf=\" + asammdf.__version__)\n",
    "except ImportError:\n",
    "    pass"
   ]
  },
  {
   "cell_type": "code",
   "execution_count": null,
   "metadata": {},
   "outputs": [],
   "source": []
  }
 ],
 "metadata": {
  "kernelspec": {
   "display_name": "Python 3",
   "language": "python",
   "name": "python3"
  },
  "language_info": {
   "codemirror_mode": {
    "name": "ipython",
    "version": 3
   },
   "file_extension": ".py",
   "mimetype": "text/x-python",
   "name": "python",
   "nbconvert_exporter": "python",
   "pygments_lexer": "ipython3",
   "version": "3.8.0"
  }
 },
 "nbformat": 4,
 "nbformat_minor": 4
}
