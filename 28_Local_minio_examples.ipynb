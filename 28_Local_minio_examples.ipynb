{
 "cells": [
  {
   "cell_type": "markdown",
   "metadata": {},
   "source": [
    "# Local ```minio``` R/W through ```fsspec```.\n",
    "\n",
    "\"*Local*\" for this example is on the local machine this\n",
    "\n",
    "This notebook will have examples on using a locally hosted minio instance (Such as by the one started in [98_minio](98_minio.ipynb)).\n",
    "\n",
    "- Setup:\n",
    "  1. Run minio from [98_minio](98_minio.ipynb). TODO: Make a subprocess tool to handle this.\n",
    "  2. Find the ```secret```, ```key``` and ```url``` for your company's minio instance.  \n",
    "    Update the information in the ```s3_cfg``` dict."
   ]
  },
  {
   "cell_type": "markdown",
   "metadata": {},
   "source": [
    "# ```minio``` Setup.\n",
    "\n",
    "In addition to the ```key``` & ```secret``` from AWS, you can all specify an ```endpoint_url```."
   ]
  },
  {
   "cell_type": "code",
   "execution_count": 44,
   "metadata": {},
   "outputs": [],
   "source": [
    "s3_cfg = {\n",
    "    \"key\": \"minio\",\n",
    "    \"secret\": \"miniostorage\",\n",
    "    \"client_kwargs\": {\n",
    "        \"endpoint_url\": \"http://127.0.0.1:9000\",\n",
    "    },\n",
    "}\n",
    "\n",
    "import fsspec\n",
    "fs = fsspec.filesystem(\"s3\", **s3_cfg)"
   ]
  },
  {
   "cell_type": "markdown",
   "metadata": {},
   "source": [
    "List the buckets:"
   ]
  },
  {
   "cell_type": "code",
   "execution_count": 46,
   "metadata": {},
   "outputs": [
    {
     "data": {
      "text/plain": [
       "['mdfbucket-0',\n",
       " 'mdfbucket-1',\n",
       " 'mdfbucket-2',\n",
       " 'mdfbucket-3',\n",
       " 'mdfbucket-4',\n",
       " 'mdfbucket-5',\n",
       " 'mdfbucket-6',\n",
       " 'mdfbucket-7',\n",
       " 'mdfbucket-8',\n",
       " 'mdfbucket-9']"
      ]
     },
     "execution_count": 46,
     "metadata": {},
     "output_type": "execute_result"
    }
   ],
   "source": [
    "fs.ls(\"\")"
   ]
  },
  {
   "cell_type": "markdown",
   "metadata": {},
   "source": [
    "Make 10 buckets (if they don't already exist):"
   ]
  },
  {
   "cell_type": "code",
   "execution_count": 47,
   "metadata": {},
   "outputs": [],
   "source": [
    "for bucket in range(10):\n",
    "    try:\n",
    "        bucket=f\"mdfbucket-{bucket}\"\n",
    "        fs.mkdir(bucket)\n",
    "    except FileExistsError:\n",
    "        pass    "
   ]
  },
  {
   "cell_type": "code",
   "execution_count": 48,
   "metadata": {},
   "outputs": [
    {
     "data": {
      "text/plain": [
       "['mdfbucket-0',\n",
       " 'mdfbucket-1',\n",
       " 'mdfbucket-2',\n",
       " 'mdfbucket-3',\n",
       " 'mdfbucket-4',\n",
       " 'mdfbucket-5',\n",
       " 'mdfbucket-6',\n",
       " 'mdfbucket-7',\n",
       " 'mdfbucket-8',\n",
       " 'mdfbucket-9']"
      ]
     },
     "execution_count": 48,
     "metadata": {},
     "output_type": "execute_result"
    }
   ],
   "source": [
    "fs.ls(\"\")"
   ]
  },
  {
   "cell_type": "markdown",
   "metadata": {},
   "source": [
    "Loop through and write a 'hello.txt' to each of the buckets."
   ]
  },
  {
   "cell_type": "code",
   "execution_count": 49,
   "metadata": {},
   "outputs": [],
   "source": [
    "for bucket in fs.ls(\"\"):\n",
    "    with fs.open(f\"{bucket}/hello.txt\", \"wt\") as fid:\n",
    "        print(f\"Hello {bucket}\", file=fid)"
   ]
  },
  {
   "cell_type": "markdown",
   "metadata": {},
   "source": [
    "# Read\n",
    "Read the file back through both the local file system:"
   ]
  },
  {
   "cell_type": "code",
   "execution_count": 56,
   "metadata": {},
   "outputs": [
    {
     "name": "stdout",
     "output_type": "stream",
     "text": [
      "Hello mdfbucket-0\n",
      "\n"
     ]
    }
   ],
   "source": [
    "with open(\"mdf_data/mdfbucket-0/hello.txt\", \"rt\") as fid:\n",
    "    print(fid.read())"
   ]
  },
  {
   "cell_type": "markdown",
   "metadata": {},
   "source": [
    "Read the file back through S3."
   ]
  },
  {
   "cell_type": "code",
   "execution_count": 57,
   "metadata": {},
   "outputs": [
    {
     "name": "stdout",
     "output_type": "stream",
     "text": [
      "Hello mdfbucket-0\n",
      "\n"
     ]
    }
   ],
   "source": [
    "with fs.open(\"mdfbucket-0/hello.txt\", \"rt\") as fid:\n",
    "    print(fid.read())"
   ]
  },
  {
   "cell_type": "markdown",
   "metadata": {},
   "source": [
    "# Walk\n",
    "\n",
    "Walk through the file system looking for files."
   ]
  },
  {
   "cell_type": "markdown",
   "metadata": {},
   "source": [
    "Walk through the local file system with ```os```:"
   ]
  },
  {
   "cell_type": "code",
   "execution_count": 72,
   "metadata": {},
   "outputs": [
    {
     "name": "stdout",
     "output_type": "stream",
     "text": [
      "hello.txt:\n",
      "\tHello mdfbucket-1\n",
      "\n",
      "\n",
      "hello.txt:\n",
      "\tHello mdfbucket-6\n",
      "\n",
      "\n",
      "hello.txt:\n",
      "\tHello mdfbucket-2\n",
      "\n",
      "\n",
      "hello.txt:\n",
      "\tHello mdfbucket-8\n",
      "\n",
      "\n",
      "hello.txt:\n",
      "\tHello mdfbucket-5\n",
      "\n",
      "\n",
      "hello.txt:\n",
      "\tHello mdfbucket-7\n",
      "\n",
      "\n",
      "hello.txt:\n",
      "\tHello mdfbucket-0\n",
      "\n",
      "\n",
      "hello.txt:\n",
      "\tHello mdfbucket-4\n",
      "\n",
      "\n",
      "hello.txt:\n",
      "\tHello mdfbucket-9\n",
      "\n",
      "\n",
      "hello.txt:\n",
      "\tHello mdfbucket-3\n",
      "\n",
      "\n"
     ]
    }
   ],
   "source": [
    "import os\n",
    "for root, directories, files in os.walk(\"mdf_data/\"):\n",
    "    for file in files:\n",
    "        if file.endswith(\".txt\"):\n",
    "            full_path = os.path.join(root, file)\n",
    "            with open(full_path, \"rt\") as fid:\n",
    "                print(f\"{file}:\")\n",
    "                print(f\"\\t{fid.read()}\\n\")"
   ]
  },
  {
   "cell_type": "markdown",
   "metadata": {},
   "source": [
    "Walk through the remote S3 file system with ```fsspec```:"
   ]
  },
  {
   "cell_type": "code",
   "execution_count": 73,
   "metadata": {},
   "outputs": [
    {
     "name": "stdout",
     "output_type": "stream",
     "text": [
      "hello.txt:\n",
      "\tHello mdfbucket-0\n",
      "\n",
      "\n",
      "hello.txt:\n",
      "\tHello mdfbucket-1\n",
      "\n",
      "\n",
      "hello.txt:\n",
      "\tHello mdfbucket-2\n",
      "\n",
      "\n",
      "hello.txt:\n",
      "\tHello mdfbucket-3\n",
      "\n",
      "\n",
      "hello.txt:\n",
      "\tHello mdfbucket-4\n",
      "\n",
      "\n",
      "hello.txt:\n",
      "\tHello mdfbucket-5\n",
      "\n",
      "\n",
      "hello.txt:\n",
      "\tHello mdfbucket-6\n",
      "\n",
      "\n",
      "hello.txt:\n",
      "\tHello mdfbucket-7\n",
      "\n",
      "\n",
      "hello.txt:\n",
      "\tHello mdfbucket-8\n",
      "\n",
      "\n",
      "hello.txt:\n",
      "\tHello mdfbucket-9\n",
      "\n",
      "\n"
     ]
    }
   ],
   "source": [
    "for bucket in fs.ls(\"\"):\n",
    "    for root, directories, files in fs.walk(bucket):\n",
    "        for file in files:\n",
    "            full_path = os.path.join(root, file)\n",
    "            with fs.open(full_path, \"rt\") as fid:\n",
    "                print(f\"{file}:\")\n",
    "                print(f\"\\t{fid.read()}\\n\")"
   ]
  },
  {
   "cell_type": "code",
   "execution_count": null,
   "metadata": {},
   "outputs": [],
   "source": []
  }
 ],
 "metadata": {
  "kernelspec": {
   "display_name": "Python 3",
   "language": "python",
   "name": "python3"
  },
  "language_info": {
   "codemirror_mode": {
    "name": "ipython",
    "version": 3
   },
   "file_extension": ".py",
   "mimetype": "text/x-python",
   "name": "python",
   "nbconvert_exporter": "python",
   "pygments_lexer": "ipython3",
   "version": "3.8.0"
  }
 },
 "nbformat": 4,
 "nbformat_minor": 4
}
